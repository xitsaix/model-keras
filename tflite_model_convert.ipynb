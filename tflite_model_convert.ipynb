{
  "cells": [
    {
      "cell_type": "code",
      "execution_count": null,
      "metadata": {
        "colab": {
          "base_uri": "https://localhost:8080/"
        },
        "id": "BQfRAiuTq15l",
        "outputId": "62297129-6553-481b-b070-cd2b13048418"
      },
      "outputs": [],
      "source": [
        "!pip install tensorflow"
      ]
    },
    {
      "cell_type": "code",
      "execution_count": null,
      "metadata": {
        "id": "vFWMMCM5G9IK"
      },
      "outputs": [],
      "source": [
        "import tensorflow as tf\n",
        "from tensorflow.keras.models import load_model\n",
        "from tensorflow.keras.preprocessing import image\n",
        "import numpy as np\n",
        "\n",
        "# Define image dimensions\n",
        "img_height, img_width = 224, 224\n",
        "\n",
        "# Load file model.h5\n",
        "model = load_model('/model/h5/path.h5')\n",
        "\n",
        "# Konversi model ke format TFLite\n",
        "converter = tf.lite.TFLiteConverter.from_keras_model(model)\n",
        "tflite_model = converter.convert()\n",
        "\n",
        "# Save model TFLite\n",
        "with open('nama_model.tflite', 'wb') as f:\n",
        "    f.write(tflite_model)"
      ]
    },
    {
      "cell_type": "code",
      "execution_count": null,
      "metadata": {
        "colab": {
          "base_uri": "https://localhost:8080/"
        },
        "id": "pq0KbCqfITqK",
        "outputId": "8f7319e4-8895-4d26-b0e5-5a19a1af1f57"
      },
      "outputs": [
        {
          "name": "stdout",
          "output_type": "stream",
          "text": [
            "Predicted one-hot: [0. 0. 0. 0. 0. 0. 0. 0. 1. 0. 0. 0. 0. 0.], Class name: Kursi 09\n"
          ]
        }
      ],
      "source": [
        "import numpy as np\n",
        "import tensorflow as tf\n",
        "\n",
        "# Load model TFLite\n",
        "interpreter = tf.lite.Interpreter(model_path='/model/path.tflite')\n",
        "\n",
        "# Mengalokasikan tensor\n",
        "interpreter.allocate_tensors()\n",
        "\n",
        "# Mendapatkan detail input dan output\n",
        "input_details = interpreter.get_input_details()\n",
        "output_details = interpreter.get_output_details()\n",
        "\n",
        "# Fungsi melakukan prediksi model TFLite\n",
        "def predict_with_tflite(img_path):\n",
        "    # Preprocessing image\n",
        "    img = image.load_img(img_path, target_size=(img_height, img_width))\n",
        "    img_array = image.img_to_array(img)\n",
        "    img_array = np.expand_dims(img_array, axis=0)\n",
        "    img_array = img_array / 255.0\n",
        "\n",
        "    # Setting input tensor\n",
        "    input_data = np.array(img_array, dtype=np.float32)\n",
        "    interpreter.set_tensor(input_details[0]['index'], input_data)\n",
        "\n",
        "    # Menjalankan model\n",
        "    interpreter.invoke()\n",
        "\n",
        "    # Mendapatkan hasil prediksi\n",
        "    output_data = interpreter.get_tensor(output_details[0]['index'])\n",
        "    class_index = np.argmax(output_data)\n",
        "    class_name = index_to_class[class_index]\n",
        "    one_hot_encoded = np.zeros(14)\n",
        "    one_hot_encoded[class_index] = 1\n",
        "\n",
        "    return one_hot_encoded, class_name\n",
        "\n",
        "# Penggunaan fungsi predict_with_tflite\n",
        "img_path = '/image/path.jpg'\n",
        "one_hot, class_name = predict_with_tflite(img_path)\n",
        "print(f\"Predicted one-hot: {one_hot}, Class name: {class_name}\")\n"
      ]
    }
  ],
  "metadata": {
    "colab": {
      "provenance": []
    },
    "kernelspec": {
      "display_name": "Python 3",
      "name": "python3"
    },
    "language_info": {
      "name": "python"
    }
  },
  "nbformat": 4,
  "nbformat_minor": 0
}
